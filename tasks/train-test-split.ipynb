{
 "cells": [
  {
   "cell_type": "code",
   "execution_count": null,
   "id": "3c4fc58e",
   "metadata": {
    "tags": [
     "soorgeon-imports"
    ]
   },
   "outputs": [],
   "source": [
    "from sklearn.model_selection import train_test_split\n",
    "from pathlib import Path\n",
    "import pickle"
   ]
  },
  {
   "cell_type": "code",
   "execution_count": null,
   "id": "e1cf210a",
   "metadata": {
    "tags": [
     "parameters"
    ]
   },
   "outputs": [],
   "source": [
    "upstream = ['clean']\n",
    "product = None"
   ]
  },
  {
   "cell_type": "code",
   "execution_count": null,
   "id": "b4281269",
   "metadata": {
    "tags": [
     "soorgeon-unpickle"
    ]
   },
   "outputs": [],
   "source": [
    "df = pickle.loads(Path(upstream['clean']['df']).read_bytes())"
   ]
  },
  {
   "cell_type": "markdown",
   "id": "e7b621d5",
   "metadata": {},
   "source": [
    "## Train test split"
   ]
  },
  {
   "cell_type": "code",
   "execution_count": null,
   "id": "e66c8439",
   "metadata": {},
   "outputs": [],
   "source": [
    "  # noqa"
   ]
  },
  {
   "cell_type": "code",
   "execution_count": null,
   "id": "95f38cd0",
   "metadata": {},
   "outputs": [],
   "source": [
    "X = df.drop('MedHouseVal', axis='columns')\n",
    "y = df.MedHouseVal"
   ]
  },
  {
   "cell_type": "code",
   "execution_count": null,
   "id": "5d657f0f",
   "metadata": {},
   "outputs": [],
   "source": [
    "X_train, X_test, y_train, y_test = train_test_split(X,\n",
    "                                                    y,\n",
    "                                                    test_size=0.33,\n",
    "                                                    random_state=42)"
   ]
  },
  {
   "cell_type": "code",
   "execution_count": null,
   "id": "54aecce6",
   "metadata": {
    "tags": [
     "soorgeon-pickle"
    ]
   },
   "outputs": [],
   "source": [
    "Path(product['X_test']).parent.mkdir(exist_ok=True, parents=True)\n",
    "Path(product['X_test']).write_bytes(pickle.dumps(X_test))\n",
    "\n",
    "Path(product['X_train']).parent.mkdir(exist_ok=True, parents=True)\n",
    "Path(product['X_train']).write_bytes(pickle.dumps(X_train))\n",
    "\n",
    "Path(product['y_test']).parent.mkdir(exist_ok=True, parents=True)\n",
    "Path(product['y_test']).write_bytes(pickle.dumps(y_test))\n",
    "\n",
    "Path(product['y_train']).parent.mkdir(exist_ok=True, parents=True)\n",
    "Path(product['y_train']).write_bytes(pickle.dumps(y_train))"
   ]
  }
 ],
 "metadata": {
  "kernelspec": {
   "display_name": "Python 3",
   "language": "python",
   "name": "python3"
  }
 },
 "nbformat": 4,
 "nbformat_minor": 5
}