{
 "cells": [
  {
   "cell_type": "code",
   "execution_count": null,
   "id": "22cf8b47",
   "metadata": {
    "tags": [
     "soorgeon-imports"
    ]
   },
   "outputs": [],
   "source": [
    "import seaborn as sns\n",
    "from pathlib import Path\n",
    "import pickle"
   ]
  },
  {
   "cell_type": "code",
   "execution_count": null,
   "id": "a2a389e5",
   "metadata": {
    "tags": [
     "parameters"
    ]
   },
   "outputs": [],
   "source": [
    "upstream = ['load']\n",
    "product = None"
   ]
  },
  {
   "cell_type": "code",
   "execution_count": null,
   "id": "090ecdb6",
   "metadata": {
    "tags": [
     "soorgeon-unpickle"
    ]
   },
   "outputs": [],
   "source": [
    "df = pickle.loads(Path(upstream['load']['df']).read_bytes())"
   ]
  },
  {
   "cell_type": "markdown",
   "id": "5d74aeca",
   "metadata": {},
   "source": [
    "## Clean"
   ]
  },
  {
   "cell_type": "code",
   "execution_count": null,
   "id": "6006688d",
   "metadata": {},
   "outputs": [],
   "source": [
    "sns.histplot(df.HouseAge)"
   ]
  },
  {
   "cell_type": "code",
   "execution_count": null,
   "id": "baaa3690",
   "metadata": {},
   "outputs": [],
   "source": [
    "# let's say we're only interested in newer homes, so we define this filtering\n",
    "# rule\n",
    "df = df[df.HouseAge <= 30]"
   ]
  },
  {
   "cell_type": "code",
   "execution_count": null,
   "id": "b1b37d58",
   "metadata": {},
   "outputs": [],
   "source": [
    "sns.histplot(x=df.AveBedrms)"
   ]
  },
  {
   "cell_type": "code",
   "execution_count": null,
   "id": "3d255f88",
   "metadata": {},
   "outputs": [],
   "source": [
    "sns.boxplot(x=df.AveBedrms)"
   ]
  },
  {
   "cell_type": "code",
   "execution_count": null,
   "id": "aa9707a2",
   "metadata": {},
   "outputs": [],
   "source": [
    "# let's also remove big houses\n",
    "df = df[df.AveBedrms <= 4]"
   ]
  },
  {
   "cell_type": "code",
   "execution_count": null,
   "id": "da698ab0",
   "metadata": {},
   "outputs": [],
   "source": [
    "# distribution of our target variable\n",
    "sns.histplot(df.MedHouseVal)"
   ]
  },
  {
   "cell_type": "code",
   "execution_count": null,
   "id": "c4f4d268",
   "metadata": {
    "tags": [
     "soorgeon-pickle"
    ]
   },
   "outputs": [],
   "source": [
    "Path(product['df']).parent.mkdir(exist_ok=True, parents=True)\n",
    "Path(product['df']).write_bytes(pickle.dumps(df))"
   ]
  }
 ],
 "metadata": {
  "kernelspec": {
   "display_name": "Python 3",
   "language": "python",
   "name": "python3"
  }
 },
 "nbformat": 4,
 "nbformat_minor": 5
}