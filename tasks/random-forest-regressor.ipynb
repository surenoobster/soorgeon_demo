{
 "cells": [
  {
   "cell_type": "code",
   "execution_count": null,
   "id": "3fad4546",
   "metadata": {
    "tags": [
     "soorgeon-imports"
    ]
   },
   "outputs": [],
   "source": [
    "import seaborn as sns\n",
    "from sklearn.ensemble import RandomForestRegressor\n",
    "from pathlib import Path\n",
    "import pickle"
   ]
  },
  {
   "cell_type": "code",
   "execution_count": null,
   "id": "811ac992",
   "metadata": {
    "tags": [
     "parameters"
    ]
   },
   "outputs": [],
   "source": [
    "upstream = ['train-test-split']\n",
    "product = None"
   ]
  },
  {
   "cell_type": "code",
   "execution_count": null,
   "id": "a40b0d5c",
   "metadata": {
    "tags": [
     "soorgeon-unpickle"
    ]
   },
   "outputs": [],
   "source": [
    "X_test = pickle.loads(Path(upstream['train-test-split']['X_test']).read_bytes())\n",
    "X_train = pickle.loads(Path(upstream['train-test-split']['X_train']).read_bytes())\n",
    "y_test = pickle.loads(Path(upstream['train-test-split']['y_test']).read_bytes())\n",
    "y_train = pickle.loads(Path(upstream['train-test-split']['y_train']).read_bytes())"
   ]
  },
  {
   "cell_type": "markdown",
   "id": "4369442a",
   "metadata": {},
   "source": [
    "## Random Forest Regressor"
   ]
  },
  {
   "cell_type": "code",
   "execution_count": null,
   "id": "544ca35b",
   "metadata": {},
   "outputs": [],
   "source": [
    "  # noqa"
   ]
  },
  {
   "cell_type": "code",
   "execution_count": null,
   "id": "f43ec370",
   "metadata": {},
   "outputs": [],
   "source": [
    "rf = RandomForestRegressor()\n",
    "rf.fit(X_train, y_train)\n",
    "y_pred = rf.predict(X_test)\n",
    "sns.scatterplot(x=y_test, y=y_pred)"
   ]
  }
 ],
 "metadata": {
  "kernelspec": {
   "display_name": "Python 3",
   "language": "python",
   "name": "python3"
  }
 },
 "nbformat": 4,
 "nbformat_minor": 5
}