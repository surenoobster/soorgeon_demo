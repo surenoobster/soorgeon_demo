{
 "cells": [
  {
   "cell_type": "code",
   "execution_count": null,
   "id": "053d1ec2",
   "metadata": {
    "tags": [
     "soorgeon-imports"
    ]
   },
   "outputs": [],
   "source": [
    "import seaborn as sns\n",
    "from sklearn.linear_model import LinearRegression\n",
    "from pathlib import Path\n",
    "import pickle"
   ]
  },
  {
   "cell_type": "code",
   "execution_count": null,
   "id": "5453f91f",
   "metadata": {
    "tags": [
     "parameters"
    ]
   },
   "outputs": [],
   "source": [
    "upstream = ['train-test-split']\n",
    "product = None"
   ]
  },
  {
   "cell_type": "code",
   "execution_count": null,
   "id": "94040da1",
   "metadata": {
    "tags": [
     "soorgeon-unpickle"
    ]
   },
   "outputs": [],
   "source": [
    "X_test = pickle.loads(Path(upstream['train-test-split']['X_test']).read_bytes())\n",
    "X_train = pickle.loads(Path(upstream['train-test-split']['X_train']).read_bytes())\n",
    "y_test = pickle.loads(Path(upstream['train-test-split']['y_test']).read_bytes())\n",
    "y_train = pickle.loads(Path(upstream['train-test-split']['y_train']).read_bytes())"
   ]
  },
  {
   "cell_type": "markdown",
   "id": "9a389f00",
   "metadata": {},
   "source": [
    "## Linear regression"
   ]
  },
  {
   "cell_type": "code",
   "execution_count": null,
   "id": "8247361d",
   "metadata": {},
   "outputs": [],
   "source": [
    "  # noqa"
   ]
  },
  {
   "cell_type": "code",
   "execution_count": null,
   "id": "c989b8f3",
   "metadata": {},
   "outputs": [],
   "source": [
    "lr = LinearRegression()"
   ]
  },
  {
   "cell_type": "code",
   "execution_count": null,
   "id": "c335f133",
   "metadata": {},
   "outputs": [],
   "source": [
    "lr.fit(X_train, y_train)"
   ]
  },
  {
   "cell_type": "code",
   "execution_count": null,
   "id": "4d653e5e",
   "metadata": {},
   "outputs": [],
   "source": [
    "y_pred = lr.predict(X_test)"
   ]
  },
  {
   "cell_type": "code",
   "execution_count": null,
   "id": "40953aa6",
   "metadata": {},
   "outputs": [],
   "source": [
    "sns.scatterplot(x=y_test, y=y_pred)"
   ]
  }
 ],
 "metadata": {
  "kernelspec": {
   "display_name": "Python 3",
   "language": "python",
   "name": "python3"
  }
 },
 "nbformat": 4,
 "nbformat_minor": 5
}